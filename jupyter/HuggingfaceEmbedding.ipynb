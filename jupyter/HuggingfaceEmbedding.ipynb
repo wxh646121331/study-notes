{
 "cells": [
  {
   "cell_type": "markdown",
   "id": "80a98a79-05fa-474f-88d8-ffbffd425363",
   "metadata": {},
   "source": [
    "sentence-transformers"
   ]
  },
  {
   "cell_type": "code",
   "execution_count": 2,
   "id": "cdeec224-6b41-4e91-a393-652b4b6e8f5c",
   "metadata": {},
   "outputs": [
    {
     "name": "stderr",
     "output_type": "stream",
     "text": [
      "/Users/wuxinhong/miniconda3/lib/python3.10/site-packages/tqdm/auto.py:21: TqdmWarning: IProgress not found. Please update jupyter and ipywidgets. See https://ipywidgets.readthedocs.io/en/stable/user_install.html\n",
      "  from .autonotebook import tqdm as notebook_tqdm\n"
     ]
    },
    {
     "ename": "ImportError",
     "evalue": "cannot import name 'GPTFaissIndex' from 'llama_index' (/Users/wuxinhong/miniconda3/lib/python3.10/site-packages/llama_index/__init__.py)",
     "output_type": "error",
     "traceback": [
      "\u001b[0;31m---------------------------------------------------------------------------\u001b[0m",
      "\u001b[0;31mImportError\u001b[0m                               Traceback (most recent call last)",
      "Cell \u001b[0;32mIn[2], line 3\u001b[0m\n\u001b[1;32m      1\u001b[0m \u001b[38;5;28;01mimport\u001b[39;00m \u001b[38;5;21;01mopenai\u001b[39;00m\u001b[38;5;241m,\u001b[39m \u001b[38;5;21;01mos\u001b[39;00m\n\u001b[1;32m      2\u001b[0m \u001b[38;5;28;01mimport\u001b[39;00m \u001b[38;5;21;01mfaiss\u001b[39;00m\n\u001b[0;32m----> 3\u001b[0m \u001b[38;5;28;01mfrom\u001b[39;00m \u001b[38;5;21;01mllama_index\u001b[39;00m \u001b[38;5;28;01mimport\u001b[39;00m SimpleDirectoryReader, LangchainEmbedding, GPTFaissIndex, ServiceContext\n\u001b[1;32m      4\u001b[0m \u001b[38;5;66;03m# from langchain.embeddings.huggingface import HuggingFaceEmbeddings\u001b[39;00m\n\u001b[1;32m      5\u001b[0m \u001b[38;5;66;03m# from langchain.text_splitter import CharacterTextSplitter\u001b[39;00m\n\u001b[1;32m      6\u001b[0m \u001b[38;5;66;03m# from llama_index.node_parser import SimpleNodeParser\u001b[39;00m\n\u001b[0;32m   (...)\u001b[0m\n\u001b[1;32m     21\u001b[0m \u001b[38;5;66;03m# faiss_index = faiss.IndexFlatIP(dimension)\u001b[39;00m\n\u001b[1;32m     22\u001b[0m \u001b[38;5;66;03m# index = GPTFaissIndex(nodes=nodes,faiss_index=faiss_index, service_context=service_context)\u001b[39;00m\n",
      "\u001b[0;31mImportError\u001b[0m: cannot import name 'GPTFaissIndex' from 'llama_index' (/Users/wuxinhong/miniconda3/lib/python3.10/site-packages/llama_index/__init__.py)"
     ]
    }
   ],
   "source": [
    "import openai, os\n",
    "import faiss\n",
    "from llama_index import SimpleDirectoryReader, LangchainEmbedding, GPTFaissIndex, ServiceContext\n",
    "# from langchain.embeddings.huggingface import HuggingFaceEmbeddings\n",
    "# from langchain.text_splitter import CharacterTextSplitter\n",
    "# from llama_index.node_parser import SimpleNodeParser\n",
    "\n",
    "# openai.api_key = \"\"\n",
    "\n",
    "# text_splitter = CharacterTextSplitter(separator=\"\\n\\n\", chunk_size=100, chunk_overlap=20)\n",
    "# parser = SimpleNodeParser(text_splitter=text_splitter)\n",
    "# documents = SimpleDirectoryReader('./data/faq/').load_data()\n",
    "# nodes = parser.get_nodes_from_documents(documents)\n",
    "\n",
    "# embed_model = LangchainEmbedding(HuggingFaceEmbeddings(\n",
    "#     model_name=\"sentence-transformers/paraphrase-multilingual-mpnet-base-v2\"\n",
    "# ))\n",
    "# service_context = ServiceContext.from_defaults(embed_model=embed_model)\n",
    "\n",
    "# dimension = 768\n",
    "# faiss_index = faiss.IndexFlatIP(dimension)\n",
    "# index = GPTFaissIndex(nodes=nodes,faiss_index=faiss_index, service_context=service_context)"
   ]
  },
  {
   "cell_type": "code",
   "execution_count": null,
   "id": "1bfd697d-43ef-4c91-96c0-7437d0a4ebf9",
   "metadata": {},
   "outputs": [],
   "source": []
  }
 ],
 "metadata": {
  "kernelspec": {
   "display_name": "Python 3 (ipykernel)",
   "language": "python",
   "name": "python3"
  },
  "language_info": {
   "codemirror_mode": {
    "name": "ipython",
    "version": 3
   },
   "file_extension": ".py",
   "mimetype": "text/x-python",
   "name": "python",
   "nbconvert_exporter": "python",
   "pygments_lexer": "ipython3",
   "version": "3.10.10"
  }
 },
 "nbformat": 4,
 "nbformat_minor": 5
}

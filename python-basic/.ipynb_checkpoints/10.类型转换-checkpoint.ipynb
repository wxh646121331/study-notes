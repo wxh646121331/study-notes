{
 "cells": [
  {
   "cell_type": "code",
   "execution_count": 6,
   "metadata": {},
   "outputs": [
    {
     "name": "stdout",
     "output_type": "stream",
     "text": [
      "4496890208\n",
      "4496890240\n"
     ]
    }
   ],
   "source": [
    "# 对象的结构：\n",
    "# id（标识）：用来标识对象的唯一性，每一个对象都有唯一的id；\n",
    "#          可以通过id()函数来查看对象的id；\n",
    "#          id是由解析器生成的，在CPython中，id就是对象的内存地址\n",
    "# type（类型）：用来标识对象所属的类型\n",
    "#          可以通过type()函数来查看对象的类型\n",
    "#          Python是强类型语言，对象一旦创建，类型就不能改变\n",
    "# value（值）： 对象可分为：可变对象，不可变对象\n",
    "\n",
    "a = 1\n",
    "b = 2\n",
    "print(id(a))\n",
    "print(id(b))"
   ]
  },
  {
   "cell_type": "code",
   "execution_count": null,
   "metadata": {},
   "outputs": [],
   "source": [
    "# 变量和对象\n",
    "# 对象并没有直接存放到变量中，在Python中，变量是对象的一个别名，变量中存放的是对象的id"
   ]
  },
  {
   "cell_type": "code",
   "execution_count": 13,
   "metadata": {},
   "outputs": [
    {
     "name": "stdout",
     "output_type": "stream",
     "text": [
      "4496894112\n",
      "140290260604528\n",
      "False\n"
     ]
    }
   ],
   "source": [
    "# 所谓的类型转换，将一个类型的对象转换成另一个类型\n",
    "# 类型转换的4个函数：int()、float()、str()、bool()\n",
    "a = 123\n",
    "b = str(123)\n",
    "print(id(a))\n",
    "print(id(b))\n",
    "c = bool(-1)\n",
    "c = bool(None)\n",
    "c = bool('')\n",
    "print(c)"
   ]
  },
  {
   "cell_type": "code",
   "execution_count": null,
   "metadata": {},
   "outputs": [],
   "source": []
  },
  {
   "cell_type": "code",
   "execution_count": null,
   "metadata": {},
   "outputs": [],
   "source": []
  }
 ],
 "metadata": {
  "kernelspec": {
   "display_name": "Python 3",
   "language": "python",
   "name": "python3"
  },
  "language_info": {
   "codemirror_mode": {
    "name": "ipython",
    "version": 3
   },
   "file_extension": ".py",
   "mimetype": "text/x-python",
   "name": "python",
   "nbconvert_exporter": "python",
   "pygments_lexer": "ipython3",
   "version": "3.8.3"
  }
 },
 "nbformat": 4,
 "nbformat_minor": 4
}

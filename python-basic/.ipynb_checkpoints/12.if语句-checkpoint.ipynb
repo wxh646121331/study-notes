{
 "cells": [
  {
   "cell_type": "code",
   "execution_count": 10,
   "metadata": {},
   "outputs": [
    {
     "name": "stdout",
     "output_type": "stream",
     "text": [
      "a = b\n"
     ]
    }
   ],
   "source": [
    "# if 语句语法：\n",
    "# if 条件表达式 ：语句\n",
    "# elif 条件表达式 ： 语句\n",
    "# else : 语句\n",
    "a = 10\n",
    "b = 10\n",
    "if a > b :\n",
    "    print('a > b')\n",
    "elif a == b :\n",
    "    print('a = b')\n",
    "else :\n",
    "    print('a < b')"
   ]
  },
  {
   "cell_type": "code",
   "execution_count": null,
   "metadata": {},
   "outputs": [],
   "source": []
  }
 ],
 "metadata": {
  "kernelspec": {
   "display_name": "Python 3",
   "language": "python",
   "name": "python3"
  },
  "language_info": {
   "codemirror_mode": {
    "name": "ipython",
    "version": 3
   },
   "file_extension": ".py",
   "mimetype": "text/x-python",
   "name": "python",
   "nbconvert_exporter": "python",
   "pygments_lexer": "ipython3",
   "version": "3.8.3"
  }
 },
 "nbformat": 4,
 "nbformat_minor": 4
}

{
 "cells": [
  {
   "cell_type": "markdown",
   "metadata": {},
   "source": [
    "运算符的分类：\n",
    "    1. 算术运算符\n",
    "    2. 赋值运算符\n",
    "    3. 关系运算符\n",
    "    4. 逻辑运算符\n",
    "    5. 条件运算符"
   ]
  },
  {
   "cell_type": "markdown",
   "metadata": {},
   "source": [
    "算术运算符：\n",
    "    +\n",
    "    -\n",
    "    *\n",
    "    /\n",
    "    // 整除\n",
    "    ** 幂运算\n",
    "    % 取模"
   ]
  },
  {
   "cell_type": "code",
   "execution_count": 1,
   "metadata": {},
   "outputs": [
    {
     "name": "stdout",
     "output_type": "stream",
     "text": [
      "4.0\n"
     ]
    }
   ],
   "source": [
    "a = 16 ** 0.5\n",
    "print(a)"
   ]
  },
  {
   "cell_type": "markdown",
   "metadata": {},
   "source": [
    "赋值运算符：\n",
    "    =\n",
    "    +=\n",
    "    -=\n",
    "    *=\n",
    "    **=\n",
    "    /=\n",
    "    //=\n",
    "    %="
   ]
  },
  {
   "cell_type": "markdown",
   "metadata": {},
   "source": [
    "关系运算符：\n",
    ">\n",
    ">=\n",
    "<\n",
    "<=\n",
    "==\n",
    "!="
   ]
  },
  {
   "cell_type": "code",
   "execution_count": 3,
   "metadata": {},
   "outputs": [
    {
     "name": "stdout",
     "output_type": "stream",
     "text": [
      "False\n",
      "False\n",
      "True\n"
     ]
    }
   ],
   "source": [
    "# 逻辑运算符：not、and、or\n",
    "a = True\n",
    "print(not a)\n",
    "a = True\n",
    "b = False\n",
    "print(a and b)\n",
    "print(a or b)"
   ]
  },
  {
   "cell_type": "code",
   "execution_count": 14,
   "metadata": {},
   "outputs": [
    {
     "name": "stdout",
     "output_type": "stream",
     "text": [
      "4\n",
      "0\n",
      "1\n",
      "False\n",
      "3\n",
      "3\n"
     ]
    }
   ],
   "source": [
    "# 非布尔值的与或运算\n",
    "# Python会将其当做布尔值运算，最终会返回原值\n",
    "# and: 如果第一个值是False，则直接返回第一个值，否则返回第二个值\n",
    "print(1 and 4)\n",
    "print(0 and 2)\n",
    "print(3 and 1)\n",
    "print(not 2)\n",
    "print(3 or 1)\n",
    "print(0 or 3)"
   ]
  },
  {
   "cell_type": "code",
   "execution_count": 15,
   "metadata": {},
   "outputs": [
    {
     "name": "stdout",
     "output_type": "stream",
     "text": [
      "你好\n"
     ]
    }
   ],
   "source": [
    "# 条件运算符（三元运算符）\n",
    "# 语法：语句1 if 条件表达式 else 语句2\n",
    "print('你好') if True else print(\"hello\")"
   ]
  },
  {
   "cell_type": "code",
   "execution_count": 17,
   "metadata": {},
   "outputs": [
    {
     "name": "stdout",
     "output_type": "stream",
     "text": [
      "1\n"
     ]
    }
   ],
   "source": [
    "# 运算符的优先级，and 的优先级高于 or\n",
    "print(1 or 2 and 3)"
   ]
  },
  {
   "cell_type": "code",
   "execution_count": 19,
   "metadata": {},
   "outputs": [
    {
     "name": "stdout",
     "output_type": "stream",
     "text": [
      "True\n",
      "True\n"
     ]
    }
   ],
   "source": [
    "# 逻辑运算符可以连着使用\n",
    "res = 1 < 2 < 3 # 相当于 1 < 2 and 2 < 3\n",
    "print(res)\n",
    "res = 10 < 20 > 15\n",
    "print(res)"
   ]
  },
  {
   "cell_type": "code",
   "execution_count": null,
   "metadata": {},
   "outputs": [],
   "source": []
  }
 ],
 "metadata": {
  "kernelspec": {
   "display_name": "Python 3",
   "language": "python",
   "name": "python3"
  },
  "language_info": {
   "codemirror_mode": {
    "name": "ipython",
    "version": 3
   },
   "file_extension": ".py",
   "mimetype": "text/x-python",
   "name": "python",
   "nbconvert_exporter": "python",
   "pygments_lexer": "ipython3",
   "version": "3.8.3"
  }
 },
 "nbformat": 4,
 "nbformat_minor": 4
}

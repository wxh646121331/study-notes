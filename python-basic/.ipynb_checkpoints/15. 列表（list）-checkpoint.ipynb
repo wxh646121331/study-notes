{
 "cells": [
  {
   "cell_type": "code",
   "execution_count": 2,
   "metadata": {},
   "outputs": [
    {
     "name": "stdout",
     "output_type": "stream",
     "text": [
      "[] <class 'list'>\n"
     ]
    }
   ],
   "source": [
    "# 创建列表\n",
    "l = []\n",
    "print(l, type(l))"
   ]
  },
  {
   "cell_type": "code",
   "execution_count": 3,
   "metadata": {},
   "outputs": [
    {
     "name": "stdout",
     "output_type": "stream",
     "text": [
      "[1, 2, 3]\n"
     ]
    }
   ],
   "source": [
    "l = [1, 2, 3]\n",
    "print(l)"
   ]
  },
  {
   "cell_type": "code",
   "execution_count": 5,
   "metadata": {},
   "outputs": [
    {
     "name": "stdout",
     "output_type": "stream",
     "text": [
      "[1, 'hello', True, [1, 2, 3], <built-in function print>]\n"
     ]
    }
   ],
   "source": [
    "l = [1, 'hello', True, [1, 2, 3], print]\n",
    "print(l)"
   ]
  },
  {
   "cell_type": "code",
   "execution_count": 16,
   "metadata": {},
   "outputs": [
    {
     "name": "stdout",
     "output_type": "stream",
     "text": [
      "[10, 20, 30, 40, 50]\n",
      "10\n",
      "[10, 20, 30, 40]\n",
      "5\n"
     ]
    }
   ],
   "source": [
    "l = [10, 20, 30, 40, 50]\n",
    "print(l)\n",
    "print(l[0])\n",
    "print(l[0:-1])\n",
    "print(len(l))"
   ]
  },
  {
   "cell_type": "code",
   "execution_count": 19,
   "metadata": {},
   "outputs": [
    {
     "name": "stdout",
     "output_type": "stream",
     "text": [
      "Sherry\n",
      "['Tom', 'Jerry']\n",
      "['Todd', 'Sherry']\n",
      "['Tom', 'Jerry', 'Todd', 'Sherry']\n"
     ]
    }
   ],
   "source": [
    "# 切片：指从现有列表中，获取一个子列表\n",
    "# 创建一个列表\n",
    "stus = ['Tom', 'Jerry', 'Todd', 'Sherry']\n",
    "# 索引可以是负数，负数则从后往前获取元素\n",
    "print(stus[-1])\n",
    "# 语法：列表[起始:结束]，包含起始位置元素，不包含结束位置的元素\n",
    "# 做切片操作时，会返回一个新的列表，不会影响原来的列表\n",
    "print(stus[0:2])\n",
    "# 如果省略结束位置，则会一直截取到最后\n",
    "print(stus[2:])\n",
    "# 如果省略起始位置，则会从第一个元素开始\n",
    "print(stus[:4])"
   ]
  },
  {
   "cell_type": "code",
   "execution_count": 20,
   "metadata": {},
   "outputs": [
    {
     "name": "stdout",
     "output_type": "stream",
     "text": [
      "['Tom', 'Todd']\n"
     ]
    }
   ],
   "source": [
    "# 语法：列表[起始:结束:步长]\n",
    "# 步长表示，每次获取元素的间隔，默认值是1\n",
    "print(stus[::2])"
   ]
  },
  {
   "cell_type": "code",
   "execution_count": 31,
   "metadata": {},
   "outputs": [
    {
     "name": "stdout",
     "output_type": "stream",
     "text": [
      "[1, 2, 3, 4, 5, 6]\n",
      "[1, 2, 3, 4, 5, 6, 1, 2, 3, 4, 5, 6, 1, 2, 3, 4, 5, 6]\n"
     ]
    }
   ],
   "source": [
    "# + 和 *\n",
    "my_list = [1,2,3] + [4,5,6]\n",
    "print(my_list)\n",
    "my_list = my_list * 3\n",
    "print(my_list)"
   ]
  },
  {
   "cell_type": "code",
   "execution_count": 25,
   "metadata": {},
   "outputs": [
    {
     "name": "stdout",
     "output_type": "stream",
     "text": [
      "True\n",
      "False\n"
     ]
    }
   ],
   "source": [
    "# in 和 not in\n",
    "# in 用来检查指定元素是否存在于列表中\n",
    "print(1 in my_list)\n",
    "print(2 not in my_list)"
   ]
  },
  {
   "cell_type": "code",
   "execution_count": 27,
   "metadata": {},
   "outputs": [
    {
     "name": "stdout",
     "output_type": "stream",
     "text": [
      "6\n",
      "1\n",
      "6\n"
     ]
    }
   ],
   "source": [
    "# len() min() max()\n",
    "print(len(my_list))\n",
    "print(min(my_list))\n",
    "print(max(my_list))"
   ]
  },
  {
   "cell_type": "code",
   "execution_count": 37,
   "metadata": {},
   "outputs": [
    {
     "name": "stdout",
     "output_type": "stream",
     "text": [
      "3\n",
      "3\n"
     ]
    }
   ],
   "source": [
    "# 两个方法：index(), count()\n",
    "print(stus.index('Sherry', 1, 4))\n",
    "print(my_list.count(1))"
   ]
  },
  {
   "cell_type": "code",
   "execution_count": null,
   "metadata": {},
   "outputs": [],
   "source": []
  }
 ],
 "metadata": {
  "kernelspec": {
   "display_name": "Python 3",
   "language": "python",
   "name": "python3"
  },
  "language_info": {
   "codemirror_mode": {
    "name": "ipython",
    "version": 3
   },
   "file_extension": ".py",
   "mimetype": "text/x-python",
   "name": "python",
   "nbconvert_exporter": "python",
   "pygments_lexer": "ipython3",
   "version": "3.8.3"
  }
 },
 "nbformat": 4,
 "nbformat_minor": 4
}

{
 "cells": [
  {
   "cell_type": "code",
   "execution_count": 5,
   "metadata": {},
   "outputs": [
    {
     "name": "stdout",
     "output_type": "stream",
     "text": [
      "Todd\n",
      "Sherry\n",
      "Tom\n",
      "Jerry\n"
     ]
    }
   ],
   "source": [
    "stus = ['Todd', 'Sherry', 'Tom', 'Jerry']\n",
    "i = 0\n",
    "while i < len(stus) :\n",
    "    print(stus[i])\n",
    "    i += 1"
   ]
  },
  {
   "cell_type": "code",
   "execution_count": 6,
   "metadata": {},
   "outputs": [
    {
     "name": "stdout",
     "output_type": "stream",
     "text": [
      "Todd\n",
      "Sherry\n",
      "Tom\n",
      "Jerry\n"
     ]
    }
   ],
   "source": [
    "# for 循环\n",
    "# 语法：\n",
    "# for 变量 in 序列 ：\n",
    "#    代码块\n",
    "stus = ['Todd', 'Sherry', 'Tom', 'Jerry']\n",
    "for s in stus:\n",
    "    print(s)"
   ]
  },
  {
   "cell_type": "code",
   "execution_count": null,
   "metadata": {},
   "outputs": [],
   "source": []
  }
 ],
 "metadata": {
  "kernelspec": {
   "display_name": "Python 3",
   "language": "python",
   "name": "python3"
  },
  "language_info": {
   "codemirror_mode": {
    "name": "ipython",
    "version": 3
   },
   "file_extension": ".py",
   "mimetype": "text/x-python",
   "name": "python",
   "nbconvert_exporter": "python",
   "pygments_lexer": "ipython3",
   "version": "3.8.3"
  }
 },
 "nbformat": 4,
 "nbformat_minor": 4
}

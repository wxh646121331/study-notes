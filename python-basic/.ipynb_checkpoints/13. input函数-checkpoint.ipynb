{
 "cells": [
  {
   "cell_type": "code",
   "execution_count": 4,
   "metadata": {},
   "outputs": [
    {
     "name": "stdout",
     "output_type": "stream",
     "text": [
      "请输入用户名：admin\n",
      "admin\n",
      "欢迎管理员光临！\n"
     ]
    }
   ],
   "source": [
    "# input()函数：用来获取用户输入\n",
    "# input()调用后，程序会立即暂停，等待用户输入\n",
    "# 用户输入完成后，点击回车程序才会继续向下执行\n",
    "# 用户输入完成以后，其所输入的内容会以返回值的形式得到\n",
    "# 注意：input()的返回值是一个字符串\n",
    "# input()函数可以设置一个字符串作为参数，这个字符串将作为提示文字显示\n",
    "a = input('请输入用户名：')\n",
    "print(a)\n",
    "if a == 'admin':\n",
    "    print('欢迎管理员光临！')"
   ]
  },
  {
   "cell_type": "code",
   "execution_count": null,
   "metadata": {},
   "outputs": [],
   "source": [
    "# input()可以用来暂时阻止程序结果\n",
    "print('hello')\n",
    "input('按回车键退出...')"
   ]
  }
 ],
 "metadata": {
  "kernelspec": {
   "display_name": "Python 3",
   "language": "python",
   "name": "python3"
  },
  "language_info": {
   "codemirror_mode": {
    "name": "ipython",
    "version": 3
   },
   "file_extension": ".py",
   "mimetype": "text/x-python",
   "name": "python",
   "nbconvert_exporter": "python",
   "pygments_lexer": "ipython3",
   "version": "3.8.3"
  }
 },
 "nbformat": 4,
 "nbformat_minor": 4
}

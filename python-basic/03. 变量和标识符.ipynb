{
 "cells": [
  {
   "cell_type": "code",
   "execution_count": 1,
   "metadata": {},
   "outputs": [],
   "source": [
    "# 字面量： 字面量就是一个一个的值，比如：1，2，3，4，'hello'\n",
    "# 变量： 变量可以用来保存字面量，并且变量保存的字面量是不定的 变量本身没有任何意思，它会根据不同的字面量表示不同的意思\n",
    "# Python 中使用变量，不需要声明，直接为变量赋值即可\n",
    "a = 10"
   ]
  },
  {
   "cell_type": "code",
   "execution_count": 2,
   "metadata": {},
   "outputs": [
    {
     "ename": "NameError",
     "evalue": "name 'b' is not defined",
     "output_type": "error",
     "traceback": [
      "\u001b[0;31m---------------------------------------------------------------------------\u001b[0m",
      "\u001b[0;31mNameError\u001b[0m                                 Traceback (most recent call last)",
      "\u001b[0;32m<ipython-input-2-7a57b2c4e16c>\u001b[0m in \u001b[0;36m<module>\u001b[0;34m\u001b[0m\n\u001b[1;32m      1\u001b[0m \u001b[0;31m# 不能使用没有赋值的变量，如果使用没有赋值的变量，会报错\u001b[0m\u001b[0;34m\u001b[0m\u001b[0;34m\u001b[0m\u001b[0;34m\u001b[0m\u001b[0m\n\u001b[0;32m----> 2\u001b[0;31m \u001b[0mprint\u001b[0m\u001b[0;34m(\u001b[0m\u001b[0mb\u001b[0m\u001b[0;34m)\u001b[0m\u001b[0;34m\u001b[0m\u001b[0;34m\u001b[0m\u001b[0m\n\u001b[0m",
      "\u001b[0;31mNameError\u001b[0m: name 'b' is not defined"
     ]
    }
   ],
   "source": [
    "# 不能使用没有赋值的变量，如果使用没有赋值的变量，会报错\n",
    "print(b)"
   ]
  },
  {
   "cell_type": "code",
   "execution_count": 3,
   "metadata": {},
   "outputs": [
    {
     "name": "stdout",
     "output_type": "stream",
     "text": [
      "1\n",
      "abc\n"
     ]
    }
   ],
   "source": [
    "# Python 是一个动态类型的语言，可以为变量赋任意类型的值，也可以任意修改变量的值\n",
    "a = 1\n",
    "print(a)\n",
    "a = 'abc'\n",
    "print(a)"
   ]
  },
  {
   "cell_type": "code",
   "execution_count": null,
   "metadata": {},
   "outputs": [],
   "source": [
    "# 标识符\n",
    "# 在 Python 中所有可以自主命名的内容都属于标识符\n",
    "# 比如：变量、函数名、类名\n",
    "# 标识符规范：\n",
    "#  1. 标识符中可以含有字母、数字、_，但是不能以数字开头\n",
    "#  2. 标识符不能是 Python 中的关键字和保留字\n",
    "#  3. 也不建议使用 Python 的函数名作为标识符，因为这样会导致函数被覆盖\n",
    "#  4. 命名规范：\n",
    "#      下划线命名法：max_length\n",
    "#      岶斯卡命名法（大驼峰命名法）：MaxLength"
   ]
  }
 ],
 "metadata": {
  "kernelspec": {
   "display_name": "Python 3",
   "language": "python",
   "name": "python3"
  },
  "language_info": {
   "codemirror_mode": {
    "name": "ipython",
    "version": 3
   },
   "file_extension": ".py",
   "mimetype": "text/x-python",
   "name": "python",
   "nbconvert_exporter": "python",
   "pygments_lexer": "ipython3",
   "version": "3.8.3"
  }
 },
 "nbformat": 4,
 "nbformat_minor": 4
}

{
 "cells": [
  {
   "cell_type": "code",
   "execution_count": 4,
   "metadata": {},
   "outputs": [
    {
     "name": "stdout",
     "output_type": "stream",
     "text": [
      "打印第1次\n",
      "打印第2次\n",
      "打印第3次\n",
      "打印第4次\n",
      "打印第5次\n",
      "打印第6次\n",
      "打印第7次\n",
      "打印第8次\n",
      "打印第9次\n",
      "打印第10次\n"
     ]
    }
   ],
   "source": [
    "# 语法：\n",
    "# while 条件表达式 ：\n",
    "#    代码块\n",
    "i = 0\n",
    "while i < 10 :\n",
    "    i = i + 1\n",
    "    print(f'打印第{i}次')"
   ]
  },
  {
   "cell_type": "code",
   "execution_count": 5,
   "metadata": {},
   "outputs": [
    {
     "name": "stdout",
     "output_type": "stream",
     "text": [
      "153 = 1 ** 3 + 5 ** 3 + 3 ** 3\n",
      "370 = 3 ** 3 + 7 ** 3 + 0 ** 3\n",
      "371 = 3 ** 3 + 7 ** 3 + 1 ** 3\n",
      "407 = 4 ** 3 + 0 ** 3 + 7 ** 3\n"
     ]
    }
   ],
   "source": [
    "# 水仙花数是指一个 n 位数（n>=3），它的每个位上的数据的n次幂之和等于它本身，求1000以内的所有的水仙花数\n",
    "i = 100\n",
    "while i < 1000:\n",
    "    a = i // 100\n",
    "    b = i % 100 //10\n",
    "    c = i % 10\n",
    "    if a ** 3 + b ** 3 + c**3 == i :\n",
    "        print(f'{i} = {a} ** 3 + {b} ** 3 + {c} ** 3')\n",
    "    i += 1"
   ]
  },
  {
   "cell_type": "code",
   "execution_count": 10,
   "metadata": {},
   "outputs": [
    {
     "name": "stdout",
     "output_type": "stream",
     "text": [
      "输入一个任意的大于1的整数：9\n",
      "9不是质数\n"
     ]
    }
   ],
   "source": [
    "# 获取输入的任意数，判断其是否是质数\n",
    "num = int(input('输入一个任意的大于1的整数：'))\n",
    "i = 2\n",
    "flag = True\n",
    "while i < num : \n",
    "    if num % i == 0 :\n",
    "        flag = False\n",
    "    i += 1\n",
    "if flag :\n",
    "    print(f'{num}是质数')\n",
    "else :\n",
    "    print(f'{num}不是质数')"
   ]
  }
 ],
 "metadata": {
  "kernelspec": {
   "display_name": "Python 3",
   "language": "python",
   "name": "python3"
  },
  "language_info": {
   "codemirror_mode": {
    "name": "ipython",
    "version": 3
   },
   "file_extension": ".py",
   "mimetype": "text/x-python",
   "name": "python",
   "nbconvert_exporter": "python",
   "pygments_lexer": "ipython3",
   "version": "3.8.3"
  }
 },
 "nbformat": 4,
 "nbformat_minor": 4
}

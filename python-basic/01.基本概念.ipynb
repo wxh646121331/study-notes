{
 "cells": [
  {
   "cell_type": "code",
   "execution_count": 2,
   "metadata": {},
   "outputs": [
    {
     "name": "stdout",
     "output_type": "stream",
     "text": [
      "Hello world!\n"
     ]
    }
   ],
   "source": [
    "print('Hello world!')"
   ]
  },
  {
   "cell_type": "markdown",
   "metadata": {},
   "source": [
    "1. 表达式：\n",
    "    表达式就是类似于数学公式的东西，例如 10+5，\n",
    "    表达式一般只用来计算一些结果，不会对程度产生实际性的影响\n",
    "    在交互模式中输入表达式，解释器会自动将表达式的结果输出"
   ]
  },
  {
   "cell_type": "code",
   "execution_count": 7,
   "metadata": {},
   "outputs": [
    {
     "data": {
      "text/plain": [
       "15"
      ]
     },
     "execution_count": 7,
     "metadata": {},
     "output_type": "execute_result"
    }
   ],
   "source": [
    "10 + 5"
   ]
  },
  {
   "cell_type": "markdown",
   "metadata": {},
   "source": [
    "2. 语句：\n",
    "    语句一般需要完成某些功能，比较打印、赋值\n",
    "    语句的执行会对程序产生影响\n",
    "    在交互模式中，不一定会输出语句的结果"
   ]
  },
  {
   "cell_type": "code",
   "execution_count": 6,
   "metadata": {},
   "outputs": [
    {
     "name": "stdout",
     "output_type": "stream",
     "text": [
      "15\n"
     ]
    }
   ],
   "source": [
    "print(10+5)\n",
    "a = 10"
   ]
  },
  {
   "cell_type": "markdown",
   "metadata": {},
   "source": [
    "3. 程序（program）：程序就是由语句和表达式够成的"
   ]
  },
  {
   "cell_type": "markdown",
   "metadata": {},
   "source": [
    "4. 函数（function）：函数就是一种语句，用来实现某些功能\n",
    "    函数的分类：\n",
    "    - 内置函数：由phthon解释器提供的函数，可以在python中直接使用，例如print函数\n",
    "    - 自定义函数：由程序员自主创建的函数\n",
    "    函数的两个要素：\n",
    "    - 参数\n",
    "    - 返回值"
   ]
  }
 ],
 "metadata": {
  "kernelspec": {
   "display_name": "Python 3",
   "language": "python",
   "name": "python3"
  },
  "language_info": {
   "codemirror_mode": {
    "name": "ipython",
    "version": 3
   },
   "file_extension": ".py",
   "mimetype": "text/x-python",
   "name": "python",
   "nbconvert_exporter": "python",
   "pygments_lexer": "ipython3",
   "version": "3.8.3"
  }
 },
 "nbformat": 4,
 "nbformat_minor": 4
}

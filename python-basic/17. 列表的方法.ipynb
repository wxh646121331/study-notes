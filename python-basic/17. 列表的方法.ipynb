{
 "cells": [
  {
   "cell_type": "code",
   "execution_count": 6,
   "metadata": {},
   "outputs": [
    {
     "name": "stdout",
     "output_type": "stream",
     "text": [
      "['Todd', 'Sherry']\n",
      "['Todd', 'Sherry', 'Tom']\n",
      "['Jerry', 'Todd', 'Sherry', 'Tom']\n",
      "['Jerry', 'Todd', 'Sherry', 'Tom', 'a', 'b']\n"
     ]
    }
   ],
   "source": [
    "stus = ['Todd', 'Sherry']\n",
    "print(stus)\n",
    "# append()\n",
    "stus.append('Tom')\n",
    "print(stus)\n",
    "stus.insert(0, 'Jerry')\n",
    "print(stus)\n",
    "# extend 使用新的序列来扩展当前序列\n",
    "stus.extend(['a', 'b'])\n",
    "print(stus)"
   ]
  },
  {
   "cell_type": "code",
   "execution_count": 7,
   "metadata": {},
   "outputs": [
    {
     "name": "stdout",
     "output_type": "stream",
     "text": [
      "[]\n"
     ]
    }
   ],
   "source": [
    "# clear()\n",
    "stus = ['Todd', 'Sherry']\n",
    "stus.clear()\n",
    "print(stus)"
   ]
  },
  {
   "cell_type": "code",
   "execution_count": 8,
   "metadata": {},
   "outputs": [
    {
     "name": "stdout",
     "output_type": "stream",
     "text": [
      "Sherry\n",
      "['Todd']\n"
     ]
    }
   ],
   "source": [
    "# pop()\n",
    "# 删除指定索引的元素\n",
    "stus = ['Todd', 'Sherry']\n",
    "print(stus.pop(1))\n",
    "print(stus)"
   ]
  },
  {
   "cell_type": "code",
   "execution_count": 9,
   "metadata": {},
   "outputs": [
    {
     "name": "stdout",
     "output_type": "stream",
     "text": [
      "['Sherry']\n"
     ]
    }
   ],
   "source": [
    "# remove()\n",
    "# 删除指定值的元素\n",
    "stus = ['Todd', 'Sherry']\n",
    "stus.remove('Todd')\n",
    "print(stus)"
   ]
  },
  {
   "cell_type": "code",
   "execution_count": 10,
   "metadata": {},
   "outputs": [
    {
     "name": "stdout",
     "output_type": "stream",
     "text": [
      "['Sherry', 'Todd']\n"
     ]
    }
   ],
   "source": [
    "# reverse()\n",
    "stus = ['Todd', 'Sherry']\n",
    "stus.reverse()\n",
    "print(stus)"
   ]
  },
  {
   "cell_type": "code",
   "execution_count": 19,
   "metadata": {},
   "outputs": [
    {
     "name": "stdout",
     "output_type": "stream",
     "text": [
      "[2, 2, 3, 5, 5, 8]\n",
      "[8, 5, 5, 3, 2, 2]\n"
     ]
    }
   ],
   "source": [
    "# sort()\n",
    "my_list = [2,5,3,5,2,8]\n",
    "my_list.sort()\n",
    "print(my_list)\n",
    "my_list.sort(reverse = True)\n",
    "print(my_list)"
   ]
  },
  {
   "cell_type": "code",
   "execution_count": null,
   "metadata": {},
   "outputs": [],
   "source": []
  }
 ],
 "metadata": {
  "kernelspec": {
   "display_name": "Python 3",
   "language": "python",
   "name": "python3"
  },
  "language_info": {
   "codemirror_mode": {
    "name": "ipython",
    "version": 3
   },
   "file_extension": ".py",
   "mimetype": "text/x-python",
   "name": "python",
   "nbconvert_exporter": "python",
   "pygments_lexer": "ipython3",
   "version": "3.8.3"
  }
 },
 "nbformat": 4,
 "nbformat_minor": 4
}

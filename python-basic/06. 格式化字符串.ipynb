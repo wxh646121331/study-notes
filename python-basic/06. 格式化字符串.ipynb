{
 "cells": [
  {
   "cell_type": "code",
   "execution_count": 4,
   "metadata": {},
   "outputs": [
    {
     "name": "stdout",
     "output_type": "stream",
     "text": [
      "a = abcdefgfh\n"
     ]
    }
   ],
   "source": [
    "# 字符串之间也可以进行加法运算\n",
    "# 如果将两个字符串相加，则会自动将两个字符串拼接为\n",
    "# 字符串不能和其他的类型进行加法运算\n",
    "a = 'abc' + 'def' + 'gfh'\n",
    "print(\"a = \" + a) # 这种写法在Python中不常见"
   ]
  },
  {
   "cell_type": "code",
   "execution_count": 5,
   "metadata": {},
   "outputs": [
    {
     "name": "stdout",
     "output_type": "stream",
     "text": [
      "a =  abcdefgfh\n"
     ]
    }
   ],
   "source": [
    "print(\"a = \", a)"
   ]
  },
  {
   "cell_type": "code",
   "execution_count": 16,
   "metadata": {},
   "outputs": [
    {
     "name": "stdout",
     "output_type": "stream",
     "text": [
      "hello, tom\n",
      "hello, tom and jerry\n",
      "hello, ab\n",
      "hello, abcde\n",
      "hello 123\n"
     ]
    }
   ],
   "source": [
    "# 在创建字符串时，可以在字符中中指定占位符\n",
    "# %s 在字符串中表示任意字符\n",
    "b = 'hello, %s'%'tom'\n",
    "print(b)\n",
    "b = 'hello, %s and %s'%('tom', 'jerry')\n",
    "print(b)\n",
    "# 设置字符串的最小长度，不足补空格\n",
    "b = 'hello,%3s'%'ab'\n",
    "print(b)\n",
    "# 设置字符串的最小和最大长度，不足补空格，超过部分截取\n",
    "b = 'hello, %3.5s'%'abcdedf'\n",
    "print(b)"
   ]
  },
  {
   "cell_type": "code",
   "execution_count": 20,
   "metadata": {},
   "outputs": [
    {
     "name": "stdout",
     "output_type": "stream",
     "text": [
      "hello 123\n",
      "hello 123.456000\n",
      "hello 123.46\n",
      "hello 123\n"
     ]
    }
   ],
   "source": [
    "b = 'hello %s'%123\n",
    "print(b)\n",
    "# %f 浮点数点位符\n",
    "# %d 整数点位符\n",
    "b = 'hello %f'%123.456\n",
    "print(b)\n",
    "# 保留两位小数\n",
    "b = 'hello %.2f'%123.456\n",
    "print(b)\n",
    "b = 'hello %d'%123.456\n",
    "print(b)"
   ]
  },
  {
   "cell_type": "code",
   "execution_count": 23,
   "metadata": {},
   "outputs": [
    {
     "name": "stdout",
     "output_type": "stream",
     "text": [
      "hello tom,jerry\n"
     ]
    }
   ],
   "source": [
    "# 格式化字符串，可以通过在字符串前添加一个f来创建一个格式化字符串\n",
    "# 在格式化字符串中可以直接嵌入变量\n",
    "a = 'tom'\n",
    "b = 'jerry'\n",
    "c = f'hello {a},{b}'\n",
    "print(c)"
   ]
  },
  {
   "cell_type": "code",
   "execution_count": null,
   "metadata": {},
   "outputs": [],
   "source": []
  }
 ],
 "metadata": {
  "kernelspec": {
   "display_name": "Python 3",
   "language": "python",
   "name": "python3"
  },
  "language_info": {
   "codemirror_mode": {
    "name": "ipython",
    "version": 3
   },
   "file_extension": ".py",
   "mimetype": "text/x-python",
   "name": "python",
   "nbconvert_exporter": "python",
   "pygments_lexer": "ipython3",
   "version": "3.8.3"
  }
 },
 "nbformat": 4,
 "nbformat_minor": 4
}

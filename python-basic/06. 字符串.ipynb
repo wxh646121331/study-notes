{
 "cells": [
  {
   "cell_type": "code",
   "execution_count": 1,
   "metadata": {},
   "outputs": [
    {
     "name": "stdout",
     "output_type": "stream",
     "text": [
      "hello\n",
      "world\n"
     ]
    }
   ],
   "source": [
    "# 字符串需要使用引号引起来，可以是单引号，也可以是双引号\n",
    "s = 'hello' \n",
    "print(s)\n",
    "s = \"world\"\n",
    "print(s)"
   ]
  },
  {
   "cell_type": "code",
   "execution_count": 3,
   "metadata": {},
   "outputs": [
    {
     "name": "stdout",
     "output_type": "stream",
     "text": [
      "子曰：\"学而时习之\"\n"
     ]
    }
   ],
   "source": [
    "# 相同的引号之间不能嵌套\n",
    "s = '子曰：\"学而时习之\"'\n",
    "print(s)"
   ]
  },
  {
   "cell_type": "code",
   "execution_count": 4,
   "metadata": {},
   "outputs": [
    {
     "name": "stdout",
     "output_type": "stream",
     "text": [
      "锄禾日当午，\n",
      "汗滴禾下土，\n",
      "谁知盘中餐，\n",
      "粒粒皆辛苦\n"
     ]
    }
   ],
   "source": [
    "# 使用三重引号来表示一个长字符串 '''或 \"\"\"\n",
    "# 三重引号可以换行，并且会保留字符串中的格式\n",
    "s = '''锄禾日当午，\n",
    "汗滴禾下土，\n",
    "谁知盘中餐，\n",
    "粒粒皆辛苦'''\n",
    "print(s)"
   ]
  },
  {
   "cell_type": "code",
   "execution_count": 2,
   "metadata": {},
   "outputs": [
    {
     "name": "stdout",
     "output_type": "stream",
     "text": [
      "子曰：\"学而时习之\"\n",
      "∅\n"
     ]
    }
   ],
   "source": [
    "# 转义字符，可以使用 \\ 作为转义字符，可以在字符串中使用一些特殊的内容\n",
    "# 例如：\n",
    "# \\' 表示 '\n",
    "# \\\" 表示 \"\n",
    "# \\t 表示制表符\n",
    "# \\n 表示换行符\n",
    "# \\\\ 表示 \\\n",
    "# \\uxxxx 表示 Unicode 编码\n",
    "s = \"子曰：\\\"学而时习之\\\"\"\n",
    "print(s)\n",
    "s = '\\u2205'\n",
    "print(s)"
   ]
  },
  {
   "cell_type": "code",
   "execution_count": null,
   "metadata": {},
   "outputs": [],
   "source": []
  }
 ],
 "metadata": {
  "kernelspec": {
   "display_name": "Python 3",
   "language": "python",
   "name": "python3"
  },
  "language_info": {
   "codemirror_mode": {
    "name": "ipython",
    "version": 3
   },
   "file_extension": ".py",
   "mimetype": "text/x-python",
   "name": "python",
   "nbconvert_exporter": "python",
   "pygments_lexer": "ipython3",
   "version": "3.8.3"
  }
 },
 "nbformat": 4,
 "nbformat_minor": 4
}

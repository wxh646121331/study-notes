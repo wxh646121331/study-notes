{
 "cells": [
  {
   "cell_type": "code",
   "execution_count": 2,
   "metadata": {},
   "outputs": [
    {
     "name": "stdout",
     "output_type": "stream",
     "text": [
      "10\n",
      "20\n",
      "9999999999999990000000000000004499999999999998800000000000000209999999999999974800000000000002099999999999999880000000000000004499999999999999900000000000000001\n"
     ]
    }
   ],
   "source": [
    "# 数值：在 Python 中数值分成了三种：整数、浮点数（小数）、复数\n",
    "# 在 Python 中所有的整数都是 int 类型\n",
    "a = 10\n",
    "b = 20\n",
    "# 在 Python 中的整数没有大小限制，可以是一个无限大的整数\n",
    "c = 9999999999999999 ** 10\n",
    "print(a)\n",
    "print(b)\n",
    "print(c)\n"
   ]
  },
  {
   "cell_type": "code",
   "execution_count": 6,
   "metadata": {},
   "outputs": [
    {
     "name": "stdout",
     "output_type": "stream",
     "text": [
      "234124780\n"
     ]
    }
   ],
   "source": [
    "# 如果数据的长度过大，可以使用下划线作为分隔符\n",
    "d = 234_124_780\n",
    "print(d)"
   ]
  },
  {
   "cell_type": "code",
   "execution_count": 4,
   "metadata": {},
   "outputs": [
    {
     "name": "stdout",
     "output_type": "stream",
     "text": [
      "2\n",
      "8\n",
      "16\n"
     ]
    }
   ],
   "source": [
    "# 10 进制的数字不能以0开头\n",
    "# 其他进制的整数，打印时会以10进制的形式显示\n",
    "# 二进制 0b开头\n",
    "d = 0b10\n",
    "print(d)\n",
    "# 八进行 0o开头\n",
    "d = 0o10\n",
    "print(d)\n",
    "# 十六进制 0x开头\n",
    "d = 0x10\n",
    "print(d)"
   ]
  },
  {
   "cell_type": "code",
   "execution_count": 8,
   "metadata": {},
   "outputs": [
    {
     "name": "stdout",
     "output_type": "stream",
     "text": [
      "103\n"
     ]
    }
   ],
   "source": [
    "# 可以通过运算符来对数字进行运算\n",
    "c = 100\n",
    "c = c + 3\n",
    "print(c)"
   ]
  },
  {
   "cell_type": "code",
   "execution_count": 9,
   "metadata": {},
   "outputs": [
    {
     "name": "stdout",
     "output_type": "stream",
     "text": [
      "0.30000000000000004\n"
     ]
    }
   ],
   "source": [
    "# 浮点数（小数），在 Python 中所有的小数都是 float 类型\n",
    "# 对浮点数运算时，可能会得到一个不精确的结果\n",
    "c = 0.1 + 0.2\n",
    "print(c)"
   ]
  },
  {
   "cell_type": "code",
   "execution_count": null,
   "metadata": {},
   "outputs": [],
   "source": []
  }
 ],
 "metadata": {
  "kernelspec": {
   "display_name": "Python 3",
   "language": "python",
   "name": "python3"
  },
  "language_info": {
   "codemirror_mode": {
    "name": "ipython",
    "version": 3
   },
   "file_extension": ".py",
   "mimetype": "text/x-python",
   "name": "python",
   "nbconvert_exporter": "python",
   "pygments_lexer": "ipython3",
   "version": "3.8.3"
  }
 },
 "nbformat": 4,
 "nbformat_minor": 4
}

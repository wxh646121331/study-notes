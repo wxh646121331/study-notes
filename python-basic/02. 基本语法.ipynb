{
 "cells": [
  {
   "cell_type": "markdown",
   "metadata": {},
   "source": [
    "1. Python 严格区分大小写\n",
    "2. Python 中的每一行就是一条语句，每行语句以换行符结束\n",
    "3. Python 中每一行语句的长度不要过长，建议每一行不要超过80个字符\n",
    "4. 一条语句可以分多行编写，以\\结尾"
   ]
  },
  {
   "cell_type": "code",
   "execution_count": 2,
   "metadata": {},
   "outputs": [
    {
     "name": "stdout",
     "output_type": "stream",
     "text": [
      "这是一个分多行编写的语句\n"
     ]
    }
   ],
   "source": [
    "print(\"这是一个分多行\\\n",
    "编写的语句\")"
   ]
  },
  {
   "cell_type": "markdown",
   "metadata": {},
   "source": [
    "5. Python 是缩进严格的语句，在python中不要随便写缩进\n",
    "6. Python 中使用#来表示注释"
   ]
  },
  {
   "cell_type": "code",
   "execution_count": null,
   "metadata": {},
   "outputs": [],
   "source": [
    "print(\"!hello world!\")# 这是一个单行注释"
   ]
  }
 ],
 "metadata": {
  "kernelspec": {
   "display_name": "Python 3",
   "language": "python",
   "name": "python3"
  },
  "language_info": {
   "codemirror_mode": {
    "name": "ipython",
    "version": 3
   },
   "file_extension": ".py",
   "mimetype": "text/x-python",
   "name": "python",
   "nbconvert_exporter": "python",
   "pygments_lexer": "ipython3",
   "version": "3.8.3"
  }
 },
 "nbformat": 4,
 "nbformat_minor": 4
}

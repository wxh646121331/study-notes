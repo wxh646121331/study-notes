{
 "cells": [
  {
   "cell_type": "code",
   "execution_count": null,
   "metadata": {},
   "outputs": [],
   "source": [
    "# 序列是Python中最基本的一种数据结构\n",
    "# 数据结果指计算机中数据存储的方式\n",
    "# 序列用于保存一组有序的数据，所有的数据在序列中都有一个唯一的位置（索引）\n",
    "# 序列的分类：\n",
    "#     可变序列：list\n",
    "#     不可变序列：str、元组（tuple）"
   ]
  },
  {
   "cell_type": "code",
   "execution_count": 2,
   "metadata": {},
   "outputs": [
    {
     "name": "stdout",
     "output_type": "stream",
     "text": [
      "['Todd', 'Tomas', 'Sherry']\n",
      "['Tom', 'Tomas', 'Sherry']\n"
     ]
    }
   ],
   "source": [
    "# 修改列表中的元素\n",
    "# 直接通过索引来修改元素\n",
    "stus = ['Todd', 'Tomas', 'Sherry']\n",
    "print(stus)\n",
    "stus[0] = 'Tom'\n",
    "print(stus)"
   ]
  },
  {
   "cell_type": "code",
   "execution_count": 3,
   "metadata": {},
   "outputs": [
    {
     "name": "stdout",
     "output_type": "stream",
     "text": [
      "['Tom', 'Tomas']\n"
     ]
    }
   ],
   "source": [
    "# 通过 del 来删除元素\n",
    "del stus[2]\n",
    "print(stus)"
   ]
  },
  {
   "cell_type": "code",
   "execution_count": 20,
   "metadata": {},
   "outputs": [
    {
     "name": "stdout",
     "output_type": "stream",
     "text": [
      "['1', 'Tomas', 'Sherry']\n",
      "['Jerry', '1', 'Tomas', 'Sherry']\n"
     ]
    }
   ],
   "source": [
    "# 通过切片来修改列表\n",
    "stus = ['Todd', 'Tomas', 'Sherry']\n",
    "stus[0:1] = '1'\n",
    "print(stus)\n",
    "# 抽索引为0的位置插入元素\n",
    "stus[0:0] = ['Jerry']\n",
    "print(stus)"
   ]
  },
  {
   "cell_type": "code",
   "execution_count": null,
   "metadata": {},
   "outputs": [],
   "source": []
  }
 ],
 "metadata": {
  "kernelspec": {
   "display_name": "Python 3",
   "language": "python",
   "name": "python3"
  },
  "language_info": {
   "codemirror_mode": {
    "name": "ipython",
    "version": 3
   },
   "file_extension": ".py",
   "mimetype": "text/x-python",
   "name": "python",
   "nbconvert_exporter": "python",
   "pygments_lexer": "ipython3",
   "version": "3.8.3"
  }
 },
 "nbformat": 4,
 "nbformat_minor": 4
}
